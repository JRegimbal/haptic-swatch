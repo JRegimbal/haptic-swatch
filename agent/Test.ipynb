{
 "cells": [
  {
   "cell_type": "code",
   "execution_count": 2,
   "id": "1b2137e9-e7fc-41a1-9969-9a646f415575",
   "metadata": {},
   "outputs": [],
   "source": [
    "import numpy as np\n",
    "import scipy\n",
    "import sys\n",
    "import torch\n",
    "from networks import ReLUNet, DTAMERLoss"
   ]
  },
  {
   "cell_type": "code",
   "execution_count": 3,
   "id": "e8601acb-fba6-4dfc-82f0-49835c88e7a4",
   "metadata": {},
   "outputs": [],
   "source": [
    "dimensions = 4\n",
    "\n",
    "target = np.random.random(dimensions)\n",
    "def reward_model(target, value):\n",
    "    norm = np.linalg.norm(target - value)\n",
    "    thresh = 0.25\n",
    "    if norm <= thresh:\n",
    "        return 1.\n",
    "    else:\n",
    "        return -1."
   ]
  },
  {
   "cell_type": "code",
   "execution_count": null,
   "id": "ace2a180-4115-46af-9048-5088823e1853",
   "metadata": {},
   "outputs": [],
   "source": [
    "size = 400\n",
    "\n",
    "X = [np.random.random(dimensions) for _ in range(size)]\n"
   ]
  },
  {
   "cell_type": "code",
   "execution_count": null,
   "id": "d6a8fd7f-25f3-41fd-a95b-95d9e6f8670b",
   "metadata": {},
   "outputs": [],
   "source": [
    "alphas = 0.\n",
    "epochs = 100"
   ]
  }
 ],
 "metadata": {
  "kernelspec": {
   "display_name": "Python 3 (ipykernel)",
   "language": "python",
   "name": "python3"
  },
  "language_info": {
   "codemirror_mode": {
    "name": "ipython",
    "version": 3
   },
   "file_extension": ".py",
   "mimetype": "text/x-python",
   "name": "python",
   "nbconvert_exporter": "python",
   "pygments_lexer": "ipython3",
   "version": "3.11.2"
  }
 },
 "nbformat": 4,
 "nbformat_minor": 5
}
